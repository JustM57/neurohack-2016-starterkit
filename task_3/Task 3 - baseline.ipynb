{
 "cells": [
  {
   "cell_type": "code",
   "execution_count": 1,
   "metadata": {
    "collapsed": true
   },
   "outputs": [],
   "source": [
    "import pandas as pd\n",
    "import h5py\n",
    "import numpy\n",
    "import re\n",
    "from scipy.stats import pearsonr\n",
    "from sklearn.model_selection import train_test_split"
   ]
  },
  {
   "cell_type": "code",
   "execution_count": 2,
   "metadata": {
    "collapsed": true
   },
   "outputs": [],
   "source": [
    "TRAIN_FILE = \"train.h5\"\n",
    "TEST_FILE = \"test.h5\"\n",
    "BASELINE_WIENER = \"baseline_wiener.csv\"\n",
    "BASELINE_KALMAN = \"baseline_kalman.csv\"\n",
    "EMG_FILTER_LAG = 2"
   ]
  },
  {
   "cell_type": "code",
   "execution_count": 3,
   "metadata": {
    "collapsed": true
   },
   "outputs": [],
   "source": [
    "def compute_differentials(array, order, axis):\n",
    "    results = [array]\n",
    "    for _ in range(order):\n",
    "        results.append(numpy.diff(results[-1], axis=axis))\n",
    "    return results"
   ]
  },
  {
   "cell_type": "code",
   "execution_count": 4,
   "metadata": {
    "collapsed": true
   },
   "outputs": [],
   "source": [
    "def align_arrays(arrays_list):\n",
    "    final_size = min(map(len, arrays_list))\n",
    "    return [array[-final_size:] for array in arrays_list]"
   ]
  },
  {
   "cell_type": "code",
   "execution_count": 5,
   "metadata": {
    "collapsed": true
   },
   "outputs": [],
   "source": [
    "def cut_arrays(arrays_list, head=None, tail=None):\n",
    "    return [array[head:tail] for array in arrays_list]"
   ]
  },
  {
   "cell_type": "code",
   "execution_count": 6,
   "metadata": {
    "collapsed": true
   },
   "outputs": [],
   "source": [
    "def transform_emg(dataset):\n",
    "    \"\"\"For a dataset[n_ticks, n_emg_channels] computes a transforamtion with\n",
    "    added time-shifted channels dataset[n_ticks -  2*EMG_FILTER_LAG, 3*n_emg_channels] by\n",
    "    by pasting the emg values for the past EMG_FILTER_LAG ticks as additional channels.\"\"\"\n",
    "    emg_channels = dataset.shape[1]\n",
    "    emg_lag = numpy.zeros((dataset.shape[0] - 2*EMG_FILTER_LAG, emg_channels*3))\n",
    "    for l in range(EMG_FILTER_LAG+1):\n",
    "        emg_lag[:, l*emg_channels:(l+1)*emg_channels] = dataset[EMG_FILTER_LAG-1+l:-EMG_FILTER_LAG-1+l]\n",
    "    return emg_lag"
   ]
  },
  {
   "cell_type": "code",
   "execution_count": 7,
   "metadata": {
    "collapsed": true
   },
   "outputs": [],
   "source": [
    "class BaselineModel(object):\n",
    "    def fit(self, emg_list, coordinates_and_diffs_list):\n",
    "        transformed_emg_list = list(map(transform_emg, emg_list))\n",
    "        emg_lag = coordinates_and_diffs_list[0].shape[0] - transformed_emg_list[0].shape[0]\n",
    "        assert(emg_lag == EMG_FILTER_LAG)\n",
    "        coordinates_and_diffs_uncut = numpy.vstack(cut_arrays(coordinates_and_diffs_list, head=emg_lag))\n",
    "        coordinates_and_diffs_lag = numpy.vstack(cut_arrays(\n",
    "                coordinates_and_diffs_list, head=emg_lag, tail=-1))\n",
    "        coordinates_and_diffs_now = numpy.vstack(cut_arrays(\n",
    "                coordinates_and_diffs_list, head=1 + emg_lag))\n",
    "        emg = numpy.vstack(transformed_emg_list)\n",
    "        emg = numpy.hstack((numpy.ones((emg.shape[0], 1)), emg))\n",
    "        self.W = numpy.linalg.pinv(emg).dot(coordinates_and_diffs_uncut).T\n",
    "        measurment_error = coordinates_and_diffs_uncut - emg.dot(self.W.T)\n",
    "        # To be used in the Kalman Filter as Ez, measurement noise\n",
    "        self.measurment_error_covar = numpy.cov(measurment_error.T)\n",
    "        \n",
    "        self.A = numpy.linalg.pinv(coordinates_and_diffs_lag).dot(coordinates_and_diffs_now).T\n",
    "        state_trans_error = coordinates_and_diffs_now - coordinates_and_diffs_lag.dot(self.A.T)\n",
    "        # To be used in the Kalman Filter as Ex, process noise\n",
    "        self.state_trans_covar = numpy.cov(state_trans_error.T)\n",
    "    \n",
    "    def predict(self, emg):\n",
    "        transformed_emg = transform_emg(emg)\n",
    "        transformed_emg = numpy.hstack((numpy.ones((transformed_emg.shape[0], 1)), transformed_emg))\n",
    "        ticks_count = transformed_emg.shape[0]\n",
    "        # TODO(kazeevn) how magic is 6?\n",
    "        # We add zero preictions for the points we can't predict due to the lag\n",
    "        # An exercise for the reader a better estimate is\n",
    "        kalman_estimate = numpy.zeros((ticks_count + 2*EMG_FILTER_LAG, 6))\n",
    "        wiener_estimate = numpy.zeros((ticks_count + 2*EMG_FILTER_LAG, 6))\n",
    "        kalman_tick = numpy.zeros((6, 1))\n",
    "        p_after = self.state_trans_covar.copy()\n",
    "        for tick in range(1, transformed_emg.shape[0]):\n",
    "            # Predict coordinate by state transition equation\n",
    "            # TODO(kazeevn) why the name?\n",
    "            x_state_estimate = self.A.dot(kalman_tick)\n",
    "            # Predict MSE covarimance matrix estimate\n",
    "            p_before = self.A.dot(p_after.dot(self.A.T)) + self.state_trans_covar\n",
    "            # Predict coordinate by state measurement equation\n",
    "            x_measurment_estimate = self.W.dot(transformed_emg[tick].T)[numpy.newaxis, :]\n",
    "            p_after = numpy.linalg.pinv(numpy.linalg.pinv(p_before) +\n",
    "                                        numpy.linalg.pinv(self.measurment_error_covar))\n",
    "            # Update the state estimate\n",
    "            kalman_tick = p_after.dot(numpy.linalg.pinv(p_before).dot(x_state_estimate) + \n",
    "                                          numpy.linalg.pinv(self.measurment_error_covar).dot(\n",
    "                                            x_measurment_estimate.T))\n",
    "            \n",
    "            # Store the predicted coordinates\n",
    "            kalman_estimate[tick + 2*EMG_FILTER_LAG] = kalman_tick.T\n",
    "            wiener_estimate[tick + 2*EMG_FILTER_LAG] = x_measurment_estimate\n",
    "        return (wiener_estimate, kalman_estimate)"
   ]
  },
  {
   "cell_type": "markdown",
   "metadata": {},
   "source": [
    "## Validation"
   ]
  },
  {
   "cell_type": "code",
   "execution_count": 8,
   "metadata": {
    "collapsed": false
   },
   "outputs": [],
   "source": [
    "def score_trial(true_coordinates, predicted_coordinates, dimensions=2):\n",
    "    return numpy.mean([pearsonr(numpy.diff(true_coordinates[:, axis]), \n",
    "                                numpy.diff(predicted_coordinates[:, axis]))[0] for\n",
    "                       axis in range(dimensions)])"
   ]
  },
  {
   "cell_type": "code",
   "execution_count": 9,
   "metadata": {
    "collapsed": true
   },
   "outputs": [],
   "source": [
    "numbergetter = re.compile(r\"\\d+$\")\n",
    "def get_tail_number(string):\n",
    "    return int(numbergetter.findall(string)[0])"
   ]
  },
  {
   "cell_type": "code",
   "execution_count": 10,
   "metadata": {
    "collapsed": false
   },
   "outputs": [
    {
     "name": "stdout",
     "output_type": "stream",
     "text": [
      "Mean scores; Kalman: 0.571216, Wiener: 0.446204\n",
      "Mean scores; Kalman: 0.448462, Wiener: 0.239530\n",
      "Mean scores; Kalman: 0.523814, Wiener: 0.368038\n"
     ]
    }
   ],
   "source": [
    "shifts = [0, 1]\n",
    "subject_ids = []\n",
    "trials = []\n",
    "wiener = []\n",
    "kalman = []\n",
    "with h5py.File(TRAIN_FILE, \"r\") as train_io, h5py.File(TEST_FILE, \"r\") as test_io:\n",
    "    for subject_id, subject_data in train_io.items():\n",
    "        coordinates_and_diffs_list_all = []\n",
    "        emg_list = []\n",
    "        for digit, subject_trials in subject_data.items():\n",
    "            for trial in subject_trials.values():\n",
    "                pen_coordintes_with_emg_lag = trial['pen_coordinates']\n",
    "                coordinates_and_diffs_list_all.append(numpy.hstack(align_arrays(\n",
    "                        compute_differentials(pen_coordintes_with_emg_lag, 2, 0))))\n",
    "                emg_list.append(numpy.array(trial['emg']))\n",
    "                assert(trial['emg'].shape[0] == trial['pen_coordinates'].shape[0])\n",
    "        # Validataion\n",
    "        model = BaselineModel()\n",
    "        emg_train, emg_test, coordinates_and_diffs_list_train, coordinates_and_diffs_list_test = \\\n",
    "            train_test_split(emg_list, coordinates_and_diffs_list_all)\n",
    "        model.fit(emg_train, coordinates_and_diffs_list_train)\n",
    "        score_wiener = 0\n",
    "        score_kalman = 0\n",
    "        for trial_emg, trial_coordinates_and_diffs in zip(emg_test, coordinates_and_diffs_list_test):\n",
    "            wiener_estimate, kalman_estimate = model.predict(trial_emg)\n",
    "            # 2: is due to aligning of the arrays while computing the differentials.\n",
    "            # For a perfectly coorrect validation (like in the contest) it of course should\n",
    "            # be done over the entire arrays\n",
    "            score_wiener += score_trial(trial_coordinates_and_diffs, wiener_estimate[2:])\n",
    "            score_kalman += score_trial(trial_coordinates_and_diffs, kalman_estimate[2:])\n",
    "        validation_count = len(emg_test)\n",
    "        print(\"Mean scores; Kalman: %f, Wiener: %f\" % (score_kalman/validation_count, score_wiener/validation_count))\n",
    "        # Prediction\n",
    "        model = BaselineModel()\n",
    "        model.fit(emg_list, coordinates_and_diffs_list_all)\n",
    "        for trial_name, trial_data in test_io[subject_id].items():\n",
    "            trials.append(get_tail_number(trial_name))\n",
    "            subject_ids.append(get_tail_number(subject_id))\n",
    "            wiener_estimate, kalman_estimate = model.predict(trial_data)\n",
    "            kalman.append(kalman_estimate)\n",
    "            wiener.append(wiener_estimate)"
   ]
  },
  {
   "cell_type": "code",
   "execution_count": 11,
   "metadata": {
    "collapsed": true
   },
   "outputs": [],
   "source": [
    "def write_solution(trial_indexes, trajectories, file_name):\n",
    "    solution_list = numpy.vstack([\n",
    "            [[subject_id, trial_index, tick, xy[0], xy[1]] for tick, xy in enumerate(trajectory)] for\n",
    "            subject_id, trial_index, trajectory in zip(subject_ids, trial_indexes, trajectories)\n",
    "        ])\n",
    "    solution = pd.DataFrame.from_records(solution_list, columns=[\"subject_id\", \"trial_id\", \"tick_index\", \"x\", \"y\"])\n",
    "    solution.to_csv(file_name, index=False)"
   ]
  },
  {
   "cell_type": "code",
   "execution_count": 12,
   "metadata": {
    "collapsed": true
   },
   "outputs": [],
   "source": [
    "write_solution(trials, kalman, BASELINE_KALMAN)\n",
    "write_solution(trials, wiener, BASELINE_WIENER)"
   ]
  }
 ],
 "metadata": {
  "anaconda-cloud": {},
  "kernelspec": {
   "display_name": "Python [conda env:py3_env]",
   "language": "python",
   "name": "conda-env-py3_env-py"
  },
  "language_info": {
   "codemirror_mode": {
    "name": "ipython",
    "version": 3
   },
   "file_extension": ".py",
   "mimetype": "text/x-python",
   "name": "python",
   "nbconvert_exporter": "python",
   "pygments_lexer": "ipython3",
   "version": "3.5.2"
  }
 },
 "nbformat": 4,
 "nbformat_minor": 0
}
