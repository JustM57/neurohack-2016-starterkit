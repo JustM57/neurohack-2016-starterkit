{
 "cells": [
  {
   "cell_type": "markdown",
   "metadata": {},
   "source": [
    "# Взаимодействие с Яндекс.Контестом\n",
    "\n",
    "Аутентифицируйтесь в любом приложении Яндекса (например, http://mail.yandex.ru) под своей учетной записью и перейдите по ссылке\n",
    "\n",
    "https://oauth.yandex.ru/authorize?response_type=code&client_id=0829370340b9421f8955f87e463d9076\n",
    "запишите 7-значный код в следующую ячейку"
   ]
  },
  {
   "cell_type": "code",
   "execution_count": null,
   "metadata": {
    "collapsed": true
   },
   "outputs": [],
   "source": [
    "code = ..."
   ]
  },
  {
   "cell_type": "code",
   "execution_count": null,
   "metadata": {
    "collapsed": true
   },
   "outputs": [],
   "source": [
    "from contest_yandex import code2oauth_token"
   ]
  },
  {
   "cell_type": "code",
   "execution_count": null,
   "metadata": {
    "collapsed": false
   },
   "outputs": [],
   "source": [
    "status, message, oauth = code2oauth_token(code)\n",
    "print(oauth)"
   ]
  },
  {
   "cell_type": "markdown",
   "metadata": {},
   "source": [
    "Если все прошло без ошибок, то выше Вы увидите свой oauth_token (похож на 21a1929c450641769be5c5b333a55d54), который необходим для отправки заданий в Yandex.Contest.\n",
    "Используйте его в своем коде следующим способом:"
   ]
  },
  {
   "cell_type": "code",
   "execution_count": null,
   "metadata": {
    "collapsed": false
   },
   "outputs": [],
   "source": [
    "from contest_yandex import YaContestSubmitter\n",
    "contest_id = 3523\n",
    "contest = YaContestSubmitter(contest_id, oauth_token=oauth)"
   ]
  },
  {
   "cell_type": "code",
   "execution_count": null,
   "metadata": {
    "collapsed": false
   },
   "outputs": [],
   "source": [
    "from contest_yandex import COMPILER_PY2, COMPILER_PY3, COMPILER_R\n",
    "PROBLEM_LETTER = '1' # or '2', or '3'"
   ]
  },
  {
   "cell_type": "markdown",
   "metadata": {},
   "source": [
    "Отправляем решение в контест. Компилятор нужно выбирать из списка выше и только для интерактивной задачи"
   ]
  },
  {
   "cell_type": "code",
   "execution_count": null,
   "metadata": {
    "collapsed": false
   },
   "outputs": [],
   "source": [
    "submission_id = contest.submit('task_1/baseline_solution.py', PROBLEM_LETTER, COMPILER_PY3)\n",
    "print(submission_id)"
   ]
  },
  {
   "cell_type": "code",
   "execution_count": null,
   "metadata": {
    "collapsed": false
   },
   "outputs": [],
   "source": [
    "score, message = contest.get_score(submission_id)\n",
    "print(\"Score: {}, message: {}\".format(score, message))"
   ]
  }
 ],
 "metadata": {
  "anaconda-cloud": {},
  "kernelspec": {
   "display_name": "Python [conda env:py3_env]",
   "language": "python",
   "name": "conda-env-py3_env-py"
  },
  "language_info": {
   "codemirror_mode": {
    "name": "ipython",
    "version": 3
   },
   "file_extension": ".py",
   "mimetype": "text/x-python",
   "name": "python",
   "nbconvert_exporter": "python",
   "pygments_lexer": "ipython3",
   "version": "3.5.2"
  }
 },
 "nbformat": 4,
 "nbformat_minor": 0
}
