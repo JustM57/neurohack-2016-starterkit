{
 "cells": [
  {
   "cell_type": "code",
   "execution_count": 1,
   "metadata": {
    "collapsed": true
   },
   "outputs": [],
   "source": [
    "import pandas as pd\n",
    "import numpy\n",
    "from sklearn.preprocessing import LabelBinarizer\n",
    "from sklearn.metrics import roc_auc_score"
   ]
  },
  {
   "cell_type": "code",
   "execution_count": 2,
   "metadata": {
    "collapsed": true
   },
   "outputs": [],
   "source": [
    "ANSWERS_FILE = \"answers.csv\"\n",
    "SUBMISSION = \"baseline_submission.csv\"\n",
    "SUBMISSION_COLUMNS = ['subject_id', 'chunk_id', \"tick\", 'class_0_score', 'class_1_score', 'class_2_score']\n",
    "UNIQUE_INDEX = ['subject_id', 'chunk_id', \"tick\"]"
   ]
  },
  {
   "cell_type": "code",
   "execution_count": 3,
   "metadata": {
    "collapsed": false
   },
   "outputs": [],
   "source": [
    "answers = pd.read_csv(ANSWERS_FILE)\n",
    "submission = pd.read_csv(SUBMISSION).sort_values(UNIQUE_INDEX)"
   ]
  },
  {
   "cell_type": "code",
   "execution_count": 4,
   "metadata": {
    "collapsed": false
   },
   "outputs": [],
   "source": [
    "assert(submission.shape[0] == answers.shape[0])\n",
    "assert(numpy.array_equal(submission.columns, SUBMISSION_COLUMNS))\n",
    "assert(numpy.array_equal(submission[UNIQUE_INDEX], answers[UNIQUE_INDEX]))"
   ]
  },
  {
   "cell_type": "code",
   "execution_count": 5,
   "metadata": {
    "collapsed": false
   },
   "outputs": [],
   "source": [
    "score = roc_auc_score(LabelBinarizer().fit_transform(answers.true_label),\n",
    "                      submission[['class_0_score', 'class_1_score', 'class_2_score']])"
   ]
  },
  {
   "cell_type": "code",
   "execution_count": 6,
   "metadata": {
    "collapsed": false
   },
   "outputs": [
    {
     "name": "stdout",
     "output_type": "stream",
     "text": [
      "0.869787742896\n"
     ]
    }
   ],
   "source": [
    "print(score)"
   ]
  }
 ],
 "metadata": {
  "anaconda-cloud": {},
  "kernelspec": {
   "display_name": "Python [conda env:py3_env]",
   "language": "python",
   "name": "conda-env-py3_env-py"
  },
  "language_info": {
   "codemirror_mode": {
    "name": "ipython",
    "version": 3
   },
   "file_extension": ".py",
   "mimetype": "text/x-python",
   "name": "python",
   "nbconvert_exporter": "python",
   "pygments_lexer": "ipython3",
   "version": "3.5.2"
  }
 },
 "nbformat": 4,
 "nbformat_minor": 1
}
